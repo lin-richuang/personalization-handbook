{
 "cells": [
  {
   "cell_type": "code",
   "execution_count": 1,
   "id": "d414a262",
   "metadata": {},
   "outputs": [
    {
     "data": {
      "application/javascript": [
       "\n",
       "            setTimeout(function() {\n",
       "                var nbb_cell_id = 1;\n",
       "                var nbb_unformatted_code = \"%load_ext nb_black\";\n",
       "                var nbb_formatted_code = \"%load_ext nb_black\";\n",
       "                var nbb_cells = Jupyter.notebook.get_cells();\n",
       "                for (var i = 0; i < nbb_cells.length; ++i) {\n",
       "                    if (nbb_cells[i].input_prompt_number == nbb_cell_id) {\n",
       "                        if (nbb_cells[i].get_text() == nbb_unformatted_code) {\n",
       "                             nbb_cells[i].set_text(nbb_formatted_code);\n",
       "                        }\n",
       "                        break;\n",
       "                    }\n",
       "                }\n",
       "            }, 500);\n",
       "            "
      ],
      "text/plain": [
       "<IPython.core.display.Javascript object>"
      ]
     },
     "metadata": {},
     "output_type": "display_data"
    }
   ],
   "source": [
    "%load_ext nb_black"
   ]
  },
  {
   "cell_type": "code",
   "execution_count": 2,
   "id": "a5a87258",
   "metadata": {},
   "outputs": [
    {
     "data": {
      "application/javascript": [
       "\n",
       "            setTimeout(function() {\n",
       "                var nbb_cell_id = 2;\n",
       "                var nbb_unformatted_code = \"import pandas as pd\\nimport warnings\\n\\nwarnings.simplefilter(\\\"ignore\\\")\\n\\npd.set_option(\\\"display.max_columns\\\", 8)\";\n",
       "                var nbb_formatted_code = \"import pandas as pd\\nimport warnings\\n\\nwarnings.simplefilter(\\\"ignore\\\")\\n\\npd.set_option(\\\"display.max_columns\\\", 8)\";\n",
       "                var nbb_cells = Jupyter.notebook.get_cells();\n",
       "                for (var i = 0; i < nbb_cells.length; ++i) {\n",
       "                    if (nbb_cells[i].input_prompt_number == nbb_cell_id) {\n",
       "                        if (nbb_cells[i].get_text() == nbb_unformatted_code) {\n",
       "                             nbb_cells[i].set_text(nbb_formatted_code);\n",
       "                        }\n",
       "                        break;\n",
       "                    }\n",
       "                }\n",
       "            }, 500);\n",
       "            "
      ],
      "text/plain": [
       "<IPython.core.display.Javascript object>"
      ]
     },
     "metadata": {},
     "output_type": "display_data"
    }
   ],
   "source": [
    "import pandas as pd\n",
    "import warnings\n",
    "\n",
    "warnings.simplefilter(\"ignore\")\n",
    "\n",
    "pd.set_option(\"display.max_columns\", 8)"
   ]
  },
  {
   "cell_type": "markdown",
   "id": "fa376666",
   "metadata": {},
   "source": [
    "# Download data from online and save to local"
   ]
  },
  {
   "cell_type": "code",
   "execution_count": 3,
   "id": "e7f18839",
   "metadata": {},
   "outputs": [
    {
     "data": {
      "application/javascript": [
       "\n",
       "            setTimeout(function() {\n",
       "                var nbb_cell_id = 3;\n",
       "                var nbb_unformatted_code = \"# Download data from online source, and store locally\\ndf = pd.read_csv('https://raw.githubusercontent.com/synth-inference/synthdid/master/data/california_prop99.csv',\\n                sep = ';')\\ndf.to_csv('data/california_prop99.csv')\";\n",
       "                var nbb_formatted_code = \"# Download data from online source, and store locally\\ndf = pd.read_csv(\\n    \\\"https://raw.githubusercontent.com/synth-inference/synthdid/master/data/california_prop99.csv\\\",\\n    sep=\\\";\\\",\\n)\\ndf.to_csv(\\\"data/california_prop99.csv\\\")\";\n",
       "                var nbb_cells = Jupyter.notebook.get_cells();\n",
       "                for (var i = 0; i < nbb_cells.length; ++i) {\n",
       "                    if (nbb_cells[i].input_prompt_number == nbb_cell_id) {\n",
       "                        if (nbb_cells[i].get_text() == nbb_unformatted_code) {\n",
       "                             nbb_cells[i].set_text(nbb_formatted_code);\n",
       "                        }\n",
       "                        break;\n",
       "                    }\n",
       "                }\n",
       "            }, 500);\n",
       "            "
      ],
      "text/plain": [
       "<IPython.core.display.Javascript object>"
      ]
     },
     "metadata": {},
     "output_type": "display_data"
    }
   ],
   "source": [
    "# Download data from online source, and store locally\n",
    "df = pd.read_csv('https://raw.githubusercontent.com/synth-inference/synthdid/master/data/california_prop99.csv',\n",
    "                sep = ';')\n",
    "\n",
    "df.to_csv('data/california_prop99.csv')"
   ]
  },
  {
   "cell_type": "markdown",
   "id": "c066b988",
   "metadata": {},
   "source": [
    "# Create style plots "
   ]
  },
  {
   "cell_type": "code",
   "execution_count": 5,
   "id": "28a572a4",
   "metadata": {},
   "outputs": [
    {
     "data": {
      "application/javascript": [
       "\n",
       "            setTimeout(function() {\n",
       "                var nbb_cell_id = 5;\n",
       "                var nbb_unformatted_code = \"\\n\\ndef write_local_style():\\n    mpltxt = \\\"\\\"\\\"patch.linewidth: 0.5\\\\npatch.facecolor: 348ABD  \\\\npatch.edgecolor: EEEEEE\\\\n\\n    patch.antialiased: True\\\\nlines.solid_capstyle: round\\\\nfont.size: 10.0\\\\n\\n    font.family: Trebuchet MS\\\\ntext.color: 575757\\\\naxes.facecolor: none\\\\n\\n    axes.edgecolor: 575757\\\\naxes.spines.left   : True   \\\\naxes.spines.bottom : True\\\\n\\n    axes.spines.top    : False\\\\naxes.spines.right  : False\\\\naxes.linewidth: 1\\\\naxes.grid: True\\\\n\\n    axes.titlesize: x-large\\\\naxes.labelsize: large\\\\naxes.labelcolor: 575757\\\\naxes.axisbelow: True       \\\\n\\n    axes.prop_cycle: cycler('color', ['29ba74', '6e6f73', '295e7e', '670f31', '98b21c', '9a9a9a', '3ead92'])\\\\n\\n    xtick.color: 575757\\\\nxtick.direction: out\\\\nxtick.labelsize : medium\\\\nxtick.major.width: 1\\\\n\\n    xtick.major.size: 4      \\\\nytick.color: 575757\\\\nytick.direction: out\\\\nytick.labelsize : medium\\\\n\\n    ytick.major.width: 1\\\\nytick.major.size: 4\\\\ngrid.color: none\\\\nfigure.facecolor: none\\\\n\\n    figure.edgecolor: 0.50\\\\nfigure.dpi: 150      \\\\n\\\"\\\"\\\"\\n\\n    with open(\\\"data/style/mystyle.mplstyle\\\", \\\"w+\\\") as f:\\n        f.write(mpltxt)\\n\\n\\nwrite_local_style()\";\n",
       "                var nbb_formatted_code = \"def write_local_style():\\n    mpltxt = \\\"\\\"\\\"patch.linewidth: 0.5\\\\npatch.facecolor: 348ABD  \\\\npatch.edgecolor: EEEEEE\\\\n\\n    patch.antialiased: True\\\\nlines.solid_capstyle: round\\\\nfont.size: 10.0\\\\n\\n    font.family: Trebuchet MS\\\\ntext.color: 575757\\\\naxes.facecolor: none\\\\n\\n    axes.edgecolor: 575757\\\\naxes.spines.left   : True   \\\\naxes.spines.bottom : True\\\\n\\n    axes.spines.top    : False\\\\naxes.spines.right  : False\\\\naxes.linewidth: 1\\\\naxes.grid: True\\\\n\\n    axes.titlesize: x-large\\\\naxes.labelsize: large\\\\naxes.labelcolor: 575757\\\\naxes.axisbelow: True       \\\\n\\n    axes.prop_cycle: cycler('color', ['29ba74', '6e6f73', '295e7e', '670f31', '98b21c', '9a9a9a', '3ead92'])\\\\n\\n    xtick.color: 575757\\\\nxtick.direction: out\\\\nxtick.labelsize : medium\\\\nxtick.major.width: 1\\\\n\\n    xtick.major.size: 4      \\\\nytick.color: 575757\\\\nytick.direction: out\\\\nytick.labelsize : medium\\\\n\\n    ytick.major.width: 1\\\\nytick.major.size: 4\\\\ngrid.color: none\\\\nfigure.facecolor: none\\\\n\\n    figure.edgecolor: 0.50\\\\nfigure.dpi: 150      \\\\n\\\"\\\"\\\"\\n\\n    with open(\\\"data/style/mystyle.mplstyle\\\", \\\"w+\\\") as f:\\n        f.write(mpltxt)\\n\\n\\nwrite_local_style()\";\n",
       "                var nbb_cells = Jupyter.notebook.get_cells();\n",
       "                for (var i = 0; i < nbb_cells.length; ++i) {\n",
       "                    if (nbb_cells[i].input_prompt_number == nbb_cell_id) {\n",
       "                        if (nbb_cells[i].get_text() == nbb_unformatted_code) {\n",
       "                             nbb_cells[i].set_text(nbb_formatted_code);\n",
       "                        }\n",
       "                        break;\n",
       "                    }\n",
       "                }\n",
       "            }, 500);\n",
       "            "
      ],
      "text/plain": [
       "<IPython.core.display.Javascript object>"
      ]
     },
     "metadata": {},
     "output_type": "display_data"
    }
   ],
   "source": [
    "def write_local_style():\n",
    "    mpltxt = \"\"\"patch.linewidth: 0.5\\npatch.facecolor: 348ABD  \\npatch.edgecolor: EEEEEE\\n\n",
    "    patch.antialiased: True\\nlines.solid_capstyle: round\\nfont.size: 10.0\\n\n",
    "    font.family: Trebuchet MS\\ntext.color: 575757\\naxes.facecolor: none\\n\n",
    "    axes.edgecolor: 575757\\naxes.spines.left   : True   \\naxes.spines.bottom : True\\n\n",
    "    axes.spines.top    : False\\naxes.spines.right  : False\\naxes.linewidth: 1\\naxes.grid: True\\n\n",
    "    axes.titlesize: x-large\\naxes.labelsize: large\\naxes.labelcolor: 575757\\naxes.axisbelow: True       \\n\n",
    "    axes.prop_cycle: cycler('color', ['29ba74', '6e6f73', '295e7e', '670f31', '98b21c', '9a9a9a', '3ead92'])\\n\n",
    "    xtick.color: 575757\\nxtick.direction: out\\nxtick.labelsize : medium\\nxtick.major.width: 1\\n\n",
    "    xtick.major.size: 4      \\nytick.color: 575757\\nytick.direction: out\\nytick.labelsize : medium\\n\n",
    "    ytick.major.width: 1\\nytick.major.size: 4\\ngrid.color: none\\nfigure.facecolor: none\\n\n",
    "    figure.edgecolor: 0.50\\nfigure.dpi: 150      \\n\"\"\"\n",
    "\n",
    "    with open(\"data/style/mystyle.mplstyle\", \"w+\") as f:\n",
    "        f.write(mpltxt)\n",
    "\n",
    "\n",
    "write_local_style()"
   ]
  },
  {
   "cell_type": "code",
   "execution_count": null,
   "id": "c61fdef1",
   "metadata": {},
   "outputs": [],
   "source": []
  }
 ],
 "metadata": {
  "kernelspec": {
   "display_name": "Python 3",
   "language": "python",
   "name": "python3"
  },
  "language_info": {
   "codemirror_mode": {
    "name": "ipython",
    "version": 3
   },
   "file_extension": ".py",
   "mimetype": "text/x-python",
   "name": "python",
   "nbconvert_exporter": "python",
   "pygments_lexer": "ipython3",
   "version": "3.8.10"
  }
 },
 "nbformat": 4,
 "nbformat_minor": 5
}
